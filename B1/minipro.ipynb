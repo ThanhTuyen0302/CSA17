{
 "cells": [
  {
   "cell_type": "markdown",
   "id": "b080e7e1",
   "metadata": {},
   "source": [
    "## Đặt phát biểu vấn đề\n",
    "- Liệt kê 3 lĩnh vực hoặc nguồn dữ liệu mà bạn quan tâm\n",
    "- Dẫn link một số trang web chia sẻ dữ liệu"
   ]
  },
  {
   "cell_type": "markdown",
   "id": "cd82f40b",
   "metadata": {},
   "source": [
    "## Đặt câu hỏi thống kê\n",
    "- Vấn đề bạn đang quan tâm?\n",
    "- Lập 2 câu hỏi thống kê về vấn đề mà bạn quan tâm \n",
    "- Sử dụng AI để hỗ trợ đặt câu hỏi"
   ]
  },
  {
   "cell_type": "markdown",
   "id": "a17aa49b",
   "metadata": {},
   "source": [
    "Lĩnh vực 1: Education Inequality Data\n",
    "https://www.kaggle.com/datasets/shamimhasan8/education-inequality-data"
   ]
  },
  {
   "cell_type": "markdown",
   "id": "34dc7966",
   "metadata": {},
   "source": [
    "Lĩnh vực 2: Sleep Disorder Diagnosis Dataset\n",
    "https://www.kaggle.com/datasets/mdsultanulislamovi/sleep-disorder-diagnosis-dataset"
   ]
  },
  {
   "cell_type": "markdown",
   "id": "49368085",
   "metadata": {},
   "source": [
    "Lĩnh vực 3: World Cities, Countries & Languages Dataset\n",
    "https://www.kaggle.com/datasets/adilshamim8/world-cities-countries-and-languages-dataset"
   ]
  }
 ],
 "metadata": {
  "language_info": {
   "name": "python"
  }
 },
 "nbformat": 4,
 "nbformat_minor": 5
}
