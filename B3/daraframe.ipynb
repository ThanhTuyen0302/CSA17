{
 "cells": [
  {
   "cell_type": "code",
   "execution_count": 32,
   "id": "d097f09c",
   "metadata": {},
   "outputs": [
    {
     "data": {
      "text/plain": [
       "{'tên': ['Laptop Dell XPS',\n",
       "  'iPhone 14',\n",
       "  'Samsung Galaxy S23',\n",
       "  'Tai nghe Sony WH-1000XM5',\n",
       "  'Máy ảnh Canon EOS R'],\n",
       " 'giá bán': [35000000, 25000000, 22000000, 7000000, 42000000],\n",
       " 'ngày tạo': ['2023-01-15',\n",
       "  '2023-03-10',\n",
       "  '2023-04-05',\n",
       "  '2023-05-22',\n",
       "  '2023-06-18'],\n",
       " 'category': ['Laptop', 'Điện thoại', 'Điện thoại', 'Phụ kiện', 'Máy ảnh']}"
      ]
     },
     "execution_count": 32,
     "metadata": {},
     "output_type": "execute_result"
    }
   ],
   "source": [
    "# data\n",
    "products = {\n",
    "    \"tên\": [\"Laptop Dell XPS\", \"iPhone 14\", \"Samsung Galaxy S23\", \"Tai nghe Sony WH-1000XM5\", \"Máy ảnh Canon EOS R\"],\n",
    "    \"giá bán\": [35000000, 25000000, 22000000, 7000000, 42000000],\n",
    "    \"ngày tạo\": [\"2023-01-15\", \"2023-03-10\", \"2023-04-05\", \"2023-05-22\", \"2023-06-18\"],\n",
    "    \"category\": [\"Laptop\", \"Điện thoại\", \"Điện thoại\", \"Phụ kiện\", \"Máy ảnh\"]\n",
    "}\n",
    "products"
   ]
  },
  {
   "cell_type": "markdown",
   "id": "f15d5e90",
   "metadata": {},
   "source": [
    "## Tạo csv với pandas\n",
    "- Chuyển dữ liệu dict -> dataframe\n",
    "- Dùng hàm to_csv()"
   ]
  },
  {
   "cell_type": "code",
   "execution_count": 33,
   "id": "94ef14cb",
   "metadata": {},
   "outputs": [],
   "source": [
    "import pandas as pd\n",
    "\n",
    "df = pd.DataFrame(products)\n",
    "# nếu đã có file -> tự động ghi đè file\n",
    "df.to_csv(\"products.csv\", index=False) "
   ]
  },
  {
   "cell_type": "markdown",
   "id": "dcf3e776",
   "metadata": {},
   "source": [
    "## Đọc csv với pandas\n",
    "- Khi trả về -> dataframe\n",
    "- Dùng các hàm hỗ trợ để in thông tin của bảng dữ liệu\n",
    "    - info\n",
    "    - describle\n",
    "    - shape + dtypes (bien)\n",
    "    - head() + tail()"
   ]
  },
  {
   "cell_type": "code",
   "execution_count": 34,
   "id": "d988e0c8",
   "metadata": {},
   "outputs": [
    {
     "name": "stdout",
     "output_type": "stream",
     "text": [
      "                        tên   giá bán    ngày tạo    category\n",
      "0           Laptop Dell XPS  35000000  2023-01-15      Laptop\n",
      "1                 iPhone 14  25000000  2023-03-10  Điện thoại\n",
      "2        Samsung Galaxy S23  22000000  2023-04-05  Điện thoại\n",
      "3  Tai nghe Sony WH-1000XM5   7000000  2023-05-22    Phụ kiện\n",
      "4       Máy ảnh Canon EOS R  42000000  2023-06-18     Máy ảnh\n",
      "Info: ----------------------\n",
      "<class 'pandas.core.frame.DataFrame'>\n",
      "RangeIndex: 5 entries, 0 to 4\n",
      "Data columns (total 4 columns):\n",
      " #   Column    Non-Null Count  Dtype \n",
      "---  ------    --------------  ----- \n",
      " 0   tên       5 non-null      object\n",
      " 1   giá bán   5 non-null      int64 \n",
      " 2   ngày tạo  5 non-null      object\n",
      " 3   category  5 non-null      object\n",
      "dtypes: int64(1), object(3)\n",
      "memory usage: 292.0+ bytes\n",
      "None\n",
      "Describe: ----------------------\n",
      "            giá bán\n",
      "count  5.000000e+00\n",
      "mean   2.620000e+07\n",
      "std    1.336787e+07\n",
      "min    7.000000e+06\n",
      "25%    2.200000e+07\n",
      "50%    2.500000e+07\n",
      "75%    3.500000e+07\n",
      "max    4.200000e+07\n",
      "Shape: ----------------------\n",
      "(5, 4)\n",
      "dtypes: ----------------------\n",
      "tên         object\n",
      "giá bán      int64\n",
      "ngày tạo    object\n",
      "category    object\n",
      "dtype: object\n",
      "head: ----------------------\n",
      "               tên   giá bán    ngày tạo category\n",
      "0  Laptop Dell XPS  35000000  2023-01-15   Laptop\n",
      "tail: ----------------------\n",
      "                        tên   giá bán    ngày tạo  category\n",
      "3  Tai nghe Sony WH-1000XM5   7000000  2023-05-22  Phụ kiện\n",
      "4       Máy ảnh Canon EOS R  42000000  2023-06-18   Máy ảnh\n"
     ]
    }
   ],
   "source": [
    "# ham read_csv báo lỗi khi không có file\n",
    "try:\n",
    "    df_from_csv = pd.read_csv(\"products.csv\")\n",
    "    print(df_from_csv)\n",
    "    print(\"Info: ----------------------\")\n",
    "    print(df_from_csv.info())\n",
    "    print(\"Describe: ----------------------\")\n",
    "    print(df_from_csv.describe())\n",
    "    print(\"Shape: ----------------------\")\n",
    "    print(df_from_csv.shape)\n",
    "    print(\"dtypes: ----------------------\")\n",
    "    print(df_from_csv.dtypes)\n",
    "    print(\"head: ----------------------\")\n",
    "    print(df_from_csv.head(1))\n",
    "    print(\"tail: ----------------------\")\n",
    "    print(df_from_csv.tail(2))\n",
    "except Exception as e:\n",
    "    print(\"Loi:\", e)\n"
   ]
  },
  {
   "cell_type": "markdown",
   "id": "90a20bdc",
   "metadata": {},
   "source": [
    "# Lọc dữ liệu"
   ]
  },
  {
   "cell_type": "markdown",
   "id": "cedb39f9",
   "metadata": {},
   "source": [
    "## Lọc cột - series\n",
    "`<ten_dataframe>['<ten cot>']`"
   ]
  },
  {
   "cell_type": "code",
   "execution_count": null,
   "id": "49f5bcf3",
   "metadata": {},
   "outputs": [],
   "source": [
    "# lọc cột với dữ liệu trên 2000000\n",
    "df_from_csv[\"price\"] > 20000000"
   ]
  },
  {
   "cell_type": "code",
   "execution_count": null,
   "id": "74ea646c",
   "metadata": {},
   "outputs": [],
   "source": [
    "new_data = df_from_csv[[\"price\",\"category\"]]\n",
    "new_data[df_from_csv[\"price\"] > 30000000]"
   ]
  },
  {
   "cell_type": "markdown",
   "id": "4961b55f",
   "metadata": {},
   "source": [
    "# Lọc hàng\n",
    "- slice [start: stop(n-1): step]\n",
    "- Bỏ start: 0\n",
    "- Bỏ stop: length - 1 (lấy tới cuối cùng)\n",
    "- Bỏ step: 1"
   ]
  },
  {
   "cell_type": "code",
   "execution_count": null,
   "id": "5fbe5d04",
   "metadata": {},
   "outputs": [],
   "source": [
    "# loc 2 hang dau\n",
    "df_from_csv[:2]"
   ]
  },
  {
   "cell_type": "code",
   "execution_count": null,
   "id": "3d62fcc2",
   "metadata": {},
   "outputs": [],
   "source": [
    "df_from_csv[1::2]"
   ]
  }
 ],
 "metadata": {
  "kernelspec": {
   "display_name": ".venv",
   "language": "python",
   "name": "python3"
  },
  "language_info": {
   "codemirror_mode": {
    "name": "ipython",
    "version": 3
   },
   "file_extension": ".py",
   "mimetype": "text/x-python",
   "name": "python",
   "nbconvert_exporter": "python",
   "pygments_lexer": "ipython3",
   "version": "3.11.9"
  }
 },
 "nbformat": 4,
 "nbformat_minor": 5
}
