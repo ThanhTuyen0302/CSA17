{
 "cells": [
  {
   "cell_type": "code",
   "execution_count": 13,
   "id": "86509a41",
   "metadata": {},
   "outputs": [
    {
     "data": {
      "text/html": [
       "<div>\n",
       "<style scoped>\n",
       "    .dataframe tbody tr th:only-of-type {\n",
       "        vertical-align: middle;\n",
       "    }\n",
       "\n",
       "    .dataframe tbody tr th {\n",
       "        vertical-align: top;\n",
       "    }\n",
       "\n",
       "    .dataframe thead th {\n",
       "        text-align: right;\n",
       "    }\n",
       "</style>\n",
       "<table border=\"1\" class=\"dataframe\">\n",
       "  <thead>\n",
       "    <tr style=\"text-align: right;\">\n",
       "      <th></th>\n",
       "      <th>tên</th>\n",
       "      <th>giá bán</th>\n",
       "      <th>ngày tạo</th>\n",
       "      <th>category</th>\n",
       "    </tr>\n",
       "  </thead>\n",
       "  <tbody>\n",
       "    <tr>\n",
       "      <th>3</th>\n",
       "      <td>Tai nghe Sony WH-1000XM5</td>\n",
       "      <td>7000000</td>\n",
       "      <td>2023-05-22</td>\n",
       "      <td>Phụ kiện</td>\n",
       "    </tr>\n",
       "    <tr>\n",
       "      <th>4</th>\n",
       "      <td>Máy ảnh Canon EOS R</td>\n",
       "      <td>42000000</td>\n",
       "      <td>2023-06-18</td>\n",
       "      <td>Máy ảnh</td>\n",
       "    </tr>\n",
       "  </tbody>\n",
       "</table>\n",
       "</div>"
      ],
      "text/plain": [
       "                        tên   giá bán    ngày tạo  category\n",
       "3  Tai nghe Sony WH-1000XM5   7000000  2023-05-22  Phụ kiện\n",
       "4       Máy ảnh Canon EOS R  42000000  2023-06-18   Máy ảnh"
      ]
     },
     "execution_count": 13,
     "metadata": {},
     "output_type": "execute_result"
    }
   ],
   "source": [
    "# add dữ liệu csv\n",
    "import pandas as pd\n",
    "df = pd.read_csv(\"products.csv\")\n",
    "df.tail(2)"
   ]
  },
  {
   "cell_type": "markdown",
   "id": "6b4bde08",
   "metadata": {},
   "source": [
    "# Lọc bằng chỉ số (iloc)\n",
    "\n",
    "> `iloc` lọc dữ liệu dựa trên vị trí chỉ số trong DataFrame"
   ]
  },
  {
   "cell_type": "code",
   "execution_count": 14,
   "id": "a4199bcb",
   "metadata": {},
   "outputs": [
    {
     "data": {
      "text/html": [
       "<div>\n",
       "<style scoped>\n",
       "    .dataframe tbody tr th:only-of-type {\n",
       "        vertical-align: middle;\n",
       "    }\n",
       "\n",
       "    .dataframe tbody tr th {\n",
       "        vertical-align: top;\n",
       "    }\n",
       "\n",
       "    .dataframe thead th {\n",
       "        text-align: right;\n",
       "    }\n",
       "</style>\n",
       "<table border=\"1\" class=\"dataframe\">\n",
       "  <thead>\n",
       "    <tr style=\"text-align: right;\">\n",
       "      <th></th>\n",
       "      <th>tên</th>\n",
       "      <th>giá bán</th>\n",
       "      <th>ngày tạo</th>\n",
       "      <th>category</th>\n",
       "    </tr>\n",
       "  </thead>\n",
       "  <tbody>\n",
       "    <tr>\n",
       "      <th>0</th>\n",
       "      <td>Laptop Dell XPS</td>\n",
       "      <td>35000000</td>\n",
       "      <td>2023-01-15</td>\n",
       "      <td>Laptop</td>\n",
       "    </tr>\n",
       "    <tr>\n",
       "      <th>1</th>\n",
       "      <td>iPhone 14</td>\n",
       "      <td>25000000</td>\n",
       "      <td>2023-03-10</td>\n",
       "      <td>Điện thoại</td>\n",
       "    </tr>\n",
       "    <tr>\n",
       "      <th>2</th>\n",
       "      <td>Samsung Galaxy S23</td>\n",
       "      <td>22000000</td>\n",
       "      <td>2023-04-05</td>\n",
       "      <td>Điện thoại</td>\n",
       "    </tr>\n",
       "  </tbody>\n",
       "</table>\n",
       "</div>"
      ],
      "text/plain": [
       "                  tên   giá bán    ngày tạo    category\n",
       "0     Laptop Dell XPS  35000000  2023-01-15      Laptop\n",
       "1           iPhone 14  25000000  2023-03-10  Điện thoại\n",
       "2  Samsung Galaxy S23  22000000  2023-04-05  Điện thoại"
      ]
     },
     "execution_count": 14,
     "metadata": {},
     "output_type": "execute_result"
    }
   ],
   "source": [
    "df.iloc[:3] # lay 3 dong dau tien"
   ]
  },
  {
   "cell_type": "code",
   "execution_count": 15,
   "id": "13048dd5",
   "metadata": {},
   "outputs": [
    {
     "data": {
      "text/html": [
       "<div>\n",
       "<style scoped>\n",
       "    .dataframe tbody tr th:only-of-type {\n",
       "        vertical-align: middle;\n",
       "    }\n",
       "\n",
       "    .dataframe tbody tr th {\n",
       "        vertical-align: top;\n",
       "    }\n",
       "\n",
       "    .dataframe thead th {\n",
       "        text-align: right;\n",
       "    }\n",
       "</style>\n",
       "<table border=\"1\" class=\"dataframe\">\n",
       "  <thead>\n",
       "    <tr style=\"text-align: right;\">\n",
       "      <th></th>\n",
       "      <th>ngày tạo</th>\n",
       "      <th>category</th>\n",
       "    </tr>\n",
       "  </thead>\n",
       "  <tbody>\n",
       "    <tr>\n",
       "      <th>2</th>\n",
       "      <td>2023-04-05</td>\n",
       "      <td>Điện thoại</td>\n",
       "    </tr>\n",
       "    <tr>\n",
       "      <th>4</th>\n",
       "      <td>2023-06-18</td>\n",
       "      <td>Máy ảnh</td>\n",
       "    </tr>\n",
       "  </tbody>\n",
       "</table>\n",
       "</div>"
      ],
      "text/plain": [
       "     ngày tạo    category\n",
       "2  2023-04-05  Điện thoại\n",
       "4  2023-06-18     Máy ảnh"
      ]
     },
     "execution_count": 15,
     "metadata": {},
     "output_type": "execute_result"
    }
   ],
   "source": [
    "# Lấy kết hợp dòng và cột\n",
    "df.iloc[2::2, 2:] # lay dong 2 -> 5 (buoc nhay 2), cot 2 - cuoi"
   ]
  },
  {
   "cell_type": "markdown",
   "id": "e8f9a2cb",
   "metadata": {},
   "source": [
    "# Lọc bằng nhãn (loc)\n",
    "\n",
    "> `loc` lọc dữ liệu dựa trên nhãn của chỉ số trong DataFrame"
   ]
  },
  {
   "cell_type": "code",
   "execution_count": 16,
   "id": "1fd9ea75",
   "metadata": {},
   "outputs": [
    {
     "data": {
      "text/html": [
       "<div>\n",
       "<style scoped>\n",
       "    .dataframe tbody tr th:only-of-type {\n",
       "        vertical-align: middle;\n",
       "    }\n",
       "\n",
       "    .dataframe tbody tr th {\n",
       "        vertical-align: top;\n",
       "    }\n",
       "\n",
       "    .dataframe thead th {\n",
       "        text-align: right;\n",
       "    }\n",
       "</style>\n",
       "<table border=\"1\" class=\"dataframe\">\n",
       "  <thead>\n",
       "    <tr style=\"text-align: right;\">\n",
       "      <th></th>\n",
       "      <th>giá bán</th>\n",
       "      <th>category</th>\n",
       "    </tr>\n",
       "  </thead>\n",
       "  <tbody>\n",
       "    <tr>\n",
       "      <th>3</th>\n",
       "      <td>7000000</td>\n",
       "      <td>Phụ kiện</td>\n",
       "    </tr>\n",
       "    <tr>\n",
       "      <th>4</th>\n",
       "      <td>42000000</td>\n",
       "      <td>Máy ảnh</td>\n",
       "    </tr>\n",
       "  </tbody>\n",
       "</table>\n",
       "</div>"
      ],
      "text/plain": [
       "    giá bán  category\n",
       "3   7000000  Phụ kiện\n",
       "4  42000000   Máy ảnh"
      ]
     },
     "execution_count": 16,
     "metadata": {},
     "output_type": "execute_result"
    }
   ],
   "source": [
    "df.loc[3: , [\"giá bán\", 'category']] # lấy từ dòng 3 -> cuối, cột giá bán + category"
   ]
  },
  {
   "cell_type": "code",
   "execution_count": null,
   "id": "e26fadad",
   "metadata": {},
   "outputs": [
    {
     "data": {
      "text/html": [
       "<div>\n",
       "<style scoped>\n",
       "    .dataframe tbody tr th:only-of-type {\n",
       "        vertical-align: middle;\n",
       "    }\n",
       "\n",
       "    .dataframe tbody tr th {\n",
       "        vertical-align: top;\n",
       "    }\n",
       "\n",
       "    .dataframe thead th {\n",
       "        text-align: right;\n",
       "    }\n",
       "</style>\n",
       "<table border=\"1\" class=\"dataframe\">\n",
       "  <thead>\n",
       "    <tr style=\"text-align: right;\">\n",
       "      <th></th>\n",
       "      <th>tên</th>\n",
       "      <th>giá bán</th>\n",
       "      <th>ngày tạo</th>\n",
       "    </tr>\n",
       "  </thead>\n",
       "  <tbody>\n",
       "    <tr>\n",
       "      <th>0</th>\n",
       "      <td>Laptop Dell XPS</td>\n",
       "      <td>35000000</td>\n",
       "      <td>2023-01-15</td>\n",
       "    </tr>\n",
       "    <tr>\n",
       "      <th>4</th>\n",
       "      <td>Máy ảnh Canon EOS R</td>\n",
       "      <td>42000000</td>\n",
       "      <td>2023-06-18</td>\n",
       "    </tr>\n",
       "  </tbody>\n",
       "</table>\n",
       "</div>"
      ],
      "text/plain": [
       "                   tên   giá bán    ngày tạo\n",
       "0      Laptop Dell XPS  35000000  2023-01-15\n",
       "4  Máy ảnh Canon EOS R  42000000  2023-06-18"
      ]
     },
     "execution_count": 17,
     "metadata": {},
     "output_type": "execute_result"
    }
   ],
   "source": [
    "# lọc có điều kiện\n",
    "df.loc[df[\"giá bán\"] > 25000000, \"tên\": \"ngày tạo\"] \n",
    "# lấy dòng nào có giá bán > 25tr, cột 0 -> ngày tạo"
   ]
  }
 ],
 "metadata": {
  "kernelspec": {
   "display_name": ".venv",
   "language": "python",
   "name": "python3"
  },
  "language_info": {
   "codemirror_mode": {
    "name": "ipython",
    "version": 3
   },
   "file_extension": ".py",
   "mimetype": "text/x-python",
   "name": "python",
   "nbconvert_exporter": "python",
   "pygments_lexer": "ipython3",
   "version": "3.11.9"
  }
 },
 "nbformat": 4,
 "nbformat_minor": 5
}
