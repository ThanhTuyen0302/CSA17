{
 "cells": [
  {
   "cell_type": "markdown",
   "id": "fed6a48b",
   "metadata": {},
   "source": [
    "- C1: tạo bằng list + index\n",
    "- C2: tạo bằng dict"
   ]
  },
  {
   "cell_type": "code",
   "execution_count": null,
   "id": "c915df51",
   "metadata": {},
   "outputs": [],
   "source": [
    "data = {\n",
    "    \"Hoa\": 37,\n",
    "    \"Phượng\": 38,\n",
    "    \"Nam\": 48,\n",
    "    \"Thu\": 40,\n",
    "    \"Hải\": 42,\n",
    "    \"Vũ\": 40,\n",
    "    \"Linh\": 39,\n",
    "    \"Bảo\": 43,\n",
    "    \"Nhân\": 41\n",
    "}\n",
    "data # type: dict"
   ]
  },
  {
   "cell_type": "code",
   "execution_count": null,
   "id": "cded661d",
   "metadata": {},
   "outputs": [],
   "source": [
    "# Tach dict thanh 2 danh sach\n",
    "weights = data.values() \n",
    "names = data.keys()\n",
    "\n",
    "import pandas as pd\n",
    "series1 = pd.Series(weights, index=names)\n",
    "series1 # type: pd.Series"
   ]
  },
  {
   "cell_type": "code",
   "execution_count": null,
   "id": "e4b69292",
   "metadata": {},
   "outputs": [],
   "source": [
    "import pandas as pd\n",
    "series2 = pd.Series(data)\n",
    "series2.describe() # type: pd.Series"
   ]
  },
  {
   "cell_type": "markdown",
   "id": "7b1ffd3a",
   "metadata": {},
   "source": [
    "# mean - trung bình cộng\n",
    "- Dễ bị ảnh hưởng bởi `giá trị ngoại lai (outlier).`"
   ]
  },
  {
   "cell_type": "code",
   "execution_count": null,
   "id": "9225925b",
   "metadata": {},
   "outputs": [],
   "source": [
    "series2.mean() # type: float"
   ]
  },
  {
   "cell_type": "markdown",
   "id": "13c28330",
   "metadata": {},
   "source": [
    "# median - trung vị\n",
    "- Cách tính: số ở giữa của danh sách đã **được sắp xếp**\n",
    "- Nếu danh sách có n phần tử (n là **số chẵn**) -> trung bình cộng của 2 số ở giữa\n",
    "- `Ít bị ảnh hưởng bởi outlier hơn mean.`"
   ]
  },
  {
   "cell_type": "code",
   "execution_count": null,
   "id": "a51cf885",
   "metadata": {},
   "outputs": [],
   "source": [
    "series2.median() # type: float"
   ]
  },
  {
   "cell_type": "markdown",
   "id": "66d2e93d",
   "metadata": {},
   "source": [
    "# mode - giá trị xuất hiện nhiều nhất\n",
    "- Giá trị nào xuất hiện với tần suất cao nhất\n",
    "- **Có thể có nhiều giá trị phổ biển**\n",
    "- `Lấy giá trị phổ biến nhất.`"
   ]
  },
  {
   "cell_type": "code",
   "execution_count": null,
   "id": "69e5cfe0",
   "metadata": {},
   "outputs": [],
   "source": [
    "series2.mode() # type: pandas.Series"
   ]
  }
 ],
 "metadata": {
  "kernelspec": {
   "display_name": ".venv",
   "language": "python",
   "name": "python3"
  },
  "language_info": {
   "codemirror_mode": {
    "name": "ipython",
    "version": 3
   },
   "file_extension": ".py",
   "mimetype": "text/x-python",
   "name": "python",
   "nbconvert_exporter": "python",
   "pygments_lexer": "ipython3",
   "version": "3.11.9"
  }
 },
 "nbformat": 4,
 "nbformat_minor": 5
}
