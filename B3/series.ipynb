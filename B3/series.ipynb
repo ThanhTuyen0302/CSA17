{
 "cells": [
  {
   "cell_type": "markdown",
   "id": "fed6a48b",
   "metadata": {},
   "source": [
    "- C1: tạo bằng list + index\n",
    "- C2: tạo bằng dict"
   ]
  },
  {
   "cell_type": "code",
   "execution_count": 1,
   "id": "c915df51",
   "metadata": {},
   "outputs": [
    {
     "data": {
      "text/plain": [
       "{'Hoa': 37,\n",
       " 'Phượng': 38,\n",
       " 'Nam': 48,\n",
       " 'Thu': 40,\n",
       " 'Hải': 42,\n",
       " 'Vũ': 40,\n",
       " 'Linh': 39,\n",
       " 'Bảo': 43,\n",
       " 'Nhân': 41}"
      ]
     },
     "execution_count": 1,
     "metadata": {},
     "output_type": "execute_result"
    }
   ],
   "source": [
    "data = {\n",
    "    \"Hoa\": 37,\n",
    "    \"Phượng\": 38,\n",
    "    \"Nam\": 48,\n",
    "    \"Thu\": 40,\n",
    "    \"Hải\": 42,\n",
    "    \"Vũ\": 40,\n",
    "    \"Linh\": 39,\n",
    "    \"Bảo\": 43,\n",
    "    \"Nhân\": 41\n",
    "}\n",
    "data # type: dict"
   ]
  },
  {
   "cell_type": "code",
   "execution_count": 2,
   "id": "cded661d",
   "metadata": {},
   "outputs": [
    {
     "data": {
      "text/plain": [
       "Hoa       37\n",
       "Phượng    38\n",
       "Nam       48\n",
       "Thu       40\n",
       "Hải       42\n",
       "Vũ        40\n",
       "Linh      39\n",
       "Bảo       43\n",
       "Nhân      41\n",
       "dtype: int64"
      ]
     },
     "execution_count": 2,
     "metadata": {},
     "output_type": "execute_result"
    }
   ],
   "source": [
    "# Tach dict thanh 2 danh sach\n",
    "weights = data.values() \n",
    "names = data.keys()\n",
    "\n",
    "import pandas as pd\n",
    "series1 = pd.Series(weights, index=names)\n",
    "series1 # type: pd.Series"
   ]
  },
  {
   "cell_type": "code",
   "execution_count": 3,
   "id": "e4b69292",
   "metadata": {},
   "outputs": [
    {
     "data": {
      "text/plain": [
       "count     9.000000\n",
       "mean     40.888889\n",
       "std       3.257470\n",
       "min      37.000000\n",
       "25%      39.000000\n",
       "50%      40.000000\n",
       "75%      42.000000\n",
       "max      48.000000\n",
       "dtype: float64"
      ]
     },
     "execution_count": 3,
     "metadata": {},
     "output_type": "execute_result"
    }
   ],
   "source": [
    "import pandas as pd\n",
    "series2 = pd.Series(data)\n",
    "series2.describe() # type: pd.Series"
   ]
  },
  {
   "cell_type": "markdown",
   "id": "7b1ffd3a",
   "metadata": {},
   "source": [
    "# mean - trung bình cộng\n",
    "- Dễ bị ảnh hưởng bởi `giá trị ngoại lai (outlier).`"
   ]
  },
  {
   "cell_type": "code",
   "execution_count": 4,
   "id": "9225925b",
   "metadata": {},
   "outputs": [
    {
     "data": {
      "text/plain": [
       "np.float64(40.888888888888886)"
      ]
     },
     "execution_count": 4,
     "metadata": {},
     "output_type": "execute_result"
    }
   ],
   "source": [
    "series2.mean() # type: float"
   ]
  },
  {
   "cell_type": "markdown",
   "id": "13c28330",
   "metadata": {},
   "source": [
    "# median - trung vị\n",
    "- Cách tính: số ở giữa của danh sách đã **được sắp xếp**\n",
    "- Nếu danh sách có n phần tử (n là **số chẵn**) -> trung bình cộng của 2 số ở giữa\n",
    "- `Ít bị ảnh hưởng bởi outlier hơn mean.`"
   ]
  },
  {
   "cell_type": "code",
   "execution_count": 5,
   "id": "a51cf885",
   "metadata": {},
   "outputs": [
    {
     "data": {
      "text/plain": [
       "np.float64(40.0)"
      ]
     },
     "execution_count": 5,
     "metadata": {},
     "output_type": "execute_result"
    }
   ],
   "source": [
    "series2.median() # type: float"
   ]
  },
  {
   "cell_type": "markdown",
   "id": "66d2e93d",
   "metadata": {},
   "source": [
    "# mode - giá trị xuất hiện nhiều nhất\n",
    "- Giá trị nào xuất hiện với tần suất cao nhất\n",
    "- **Có thể có nhiều giá trị phổ biển**\n",
    "- `Lấy giá trị phổ biến nhất.`"
   ]
  },
  {
   "cell_type": "code",
   "execution_count": 6,
   "id": "69e5cfe0",
   "metadata": {},
   "outputs": [
    {
     "data": {
      "text/plain": [
       "0    40\n",
       "dtype: int64"
      ]
     },
     "execution_count": 6,
     "metadata": {},
     "output_type": "execute_result"
    }
   ],
   "source": [
    "series2.mode() # type: pandas.Series"
   ]
  }
 ],
 "metadata": {
  "kernelspec": {
   "display_name": ".venv",
   "language": "python",
   "name": "python3"
  },
  "language_info": {
   "codemirror_mode": {
    "name": "ipython",
    "version": 3
   },
   "file_extension": ".py",
   "mimetype": "text/x-python",
   "name": "python",
   "nbconvert_exporter": "python",
   "pygments_lexer": "ipython3",
   "version": "3.11.9"
  }
 },
 "nbformat": 4,
 "nbformat_minor": 5
}
