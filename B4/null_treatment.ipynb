{
 "cells": [
  {
   "cell_type": "code",
   "execution_count": null,
   "id": "e360ff4e",
   "metadata": {},
   "outputs": [],
   "source": [
    "import pandas as pd\n",
    "df = pd.read_csv(\"Billionaires.csv\")\n",
    "df.head()"
   ]
  },
  {
   "cell_type": "markdown",
   "id": "47367b38",
   "metadata": {},
   "source": [
    "# Xử lý dữ liệu NaN\n",
    "- isnull().sum()\n",
    "- dropan(axis=1)\n",
    "- drop(['tencot'], axis=1, inplace=True): `bỏ các cột không cần thiết`"
   ]
  },
  {
   "cell_type": "code",
   "execution_count": null,
   "id": "2f9c94f6",
   "metadata": {},
   "outputs": [],
   "source": [
    "df.isnull().sum()"
   ]
  },
  {
   "cell_type": "code",
   "execution_count": null,
   "id": "b9e7e70a",
   "metadata": {},
   "outputs": [],
   "source": [
    "df.dropna"
   ]
  },
  {
   "cell_type": "code",
   "execution_count": null,
   "id": "0acc64dc",
   "metadata": {},
   "outputs": [],
   "source": [
    "df = df.dropna(axis=1)"
   ]
  },
  {
   "cell_type": "code",
   "execution_count": null,
   "id": "6af816ad",
   "metadata": {},
   "outputs": [],
   "source": [
    "# hàm ghi đè lên dữ liệu cũ\n",
    "df.drop([\"organization\"], axis=1, inplace=True)"
   ]
  },
  {
   "cell_type": "markdown",
   "id": "fac3872d",
   "metadata": {},
   "source": [
    "# Điền khuyết\n",
    "- fillna()\n",
    "- bfill: `thay giá trị khuyết bằng giá trị ngay sau nó`\n",
    "- ffill\" `thay giá trị khuyết bằng giá trị ngay trước nó`"
   ]
  },
  {
   "cell_type": "code",
   "execution_count": null,
   "id": "983410cf",
   "metadata": {},
   "outputs": [],
   "source": [
    "nan_rows_any = df[df.isna().any(axis=1)]\n",
    "\n",
    "print(\"\\nRows with at least one NaN value:\")\n",
    "print(nan_rows_any)"
   ]
  },
  {
   "cell_type": "code",
   "execution_count": null,
   "id": "f553d2c1",
   "metadata": {},
   "outputs": [],
   "source": [
    "df_filled_0 = df.fillna(0)\n",
    "df_filled_0.isnull().sum()\n",
    "df_filled_0.tail()"
   ]
  },
  {
   "cell_type": "code",
   "execution_count": null,
   "id": "cae11ce2",
   "metadata": {},
   "outputs": [],
   "source": [
    "# df_old = df.fillna(method=\"bfill\")\n",
    "df_bfill = df.bfill()\n",
    "df_bfill.isnull().sum()"
   ]
  },
  {
   "cell_type": "code",
   "execution_count": null,
   "id": "980854a3",
   "metadata": {},
   "outputs": [],
   "source": [
    "df_ffill = df.ffill()\n",
    "df_ffill.isnull().sum()"
   ]
  },
  {
   "cell_type": "markdown",
   "id": "44e49e18",
   "metadata": {},
   "source": [
    "# Ép kiểu\n",
    "\n",
    "- dtypes\n",
    "- Series.astype ('<Kiểu dữ liệu>')\n",
    "- pd.to_numeric(<cột>): `để panda tự chọn kiểu phù hợp`"
   ]
  },
  {
   "cell_type": "code",
   "execution_count": null,
   "id": "51c40b27",
   "metadata": {},
   "outputs": [],
   "source": [
    "df.dtypes"
   ]
  },
  {
   "cell_type": "code",
   "execution_count": null,
   "id": "e8e70f4a",
   "metadata": {},
   "outputs": [],
   "source": [
    "df_ffill.birhYear = df_ffill.age.astype(\"int\")\n",
    "df_ffill.birthYear.dtype"
   ]
  },
  {
   "cell_type": "code",
   "execution_count": null,
   "id": "0878020a",
   "metadata": {},
   "outputs": [],
   "source": [
    "df_ffill.age = pd.to_numeric(df_ffill.age)\n",
    "df_ffill.age.dtype"
   ]
  },
  {
   "cell_type": "markdown",
   "id": "d8db2f54",
   "metadata": {},
   "source": [
    "# Dữ liệu trùng lặp\n",
    "- df['ten cot'].duplicated().sum()\n",
    "- df['ten cot'].drop_duplicates()"
   ]
  },
  {
   "cell_type": "code",
   "execution_count": null,
   "id": "8b5a04e8",
   "metadata": {},
   "outputs": [],
   "source": [
    "df_dup = df\n",
    "df_dup.duplicated().sum()"
   ]
  },
  {
   "cell_type": "code",
   "execution_count": null,
   "id": "dab8d96c",
   "metadata": {},
   "outputs": [],
   "source": [
    "# xoa ca hang trung\n",
    "df_dup = df_dup.drop_duplicates()\n",
    "df_dup.duplicated().sum()"
   ]
  },
  {
   "cell_type": "code",
   "execution_count": null,
   "id": "824a0840",
   "metadata": {},
   "outputs": [],
   "source": [
    "df_dup[df_dup[\"rank\"].duplicated()]"
   ]
  },
  {
   "cell_type": "code",
   "execution_count": null,
   "id": "1cb50e88",
   "metadata": {},
   "outputs": [],
   "source": [
    "df_dup.drop_duplicates(subset=[\"rank\"])"
   ]
  }
 ],
 "metadata": {
  "kernelspec": {
   "display_name": "Python 3",
   "language": "python",
   "name": "python3"
  },
  "language_info": {
   "name": "python",
   "version": "3.11.9"
  }
 },
 "nbformat": 4,
 "nbformat_minor": 5
}
