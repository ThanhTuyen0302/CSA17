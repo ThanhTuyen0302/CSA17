{
 "cells": [
  {
   "cell_type": "code",
   "execution_count": null,
   "id": "8531c0fe",
   "metadata": {},
   "outputs": [],
   "source": [
    "import pandas as pd\n",
    "import matplotlib as plt"
   ]
  },
  {
   "cell_type": "code",
   "execution_count": null,
   "id": "8dda0512",
   "metadata": {},
   "outputs": [],
   "source": [
    "df = pd.read_csv(\"spotify.csv\")\n",
    "df.isna().sum()"
   ]
  },
  {
   "cell_type": "code",
   "execution_count": null,
   "id": "8864ff69",
   "metadata": {},
   "outputs": [],
   "source": [
    "df.tail()"
   ]
  },
  {
   "cell_type": "markdown",
   "id": "08001e6b",
   "metadata": {},
   "source": [
    "# plot:\n",
    "- Biểu đồ đường cong"
   ]
  },
  {
   "cell_type": "code",
   "execution_count": null,
   "id": "56c18d0c",
   "metadata": {},
   "outputs": [],
   "source": [
    "df.plot()"
   ]
  },
  {
   "cell_type": "code",
   "execution_count": null,
   "id": "7e1f9bea",
   "metadata": {},
   "outputs": [],
   "source": [
    "# ve bieu do duong cho Monthly Listeners (Millions)plt.figure(figsize=(10, 6))\n",
    "plt.plot(df[\"Monthly Listeners (Millions)\"], \n",
    "    marker=\"o\", \n",
    "    linestyle=\"-\", \n",
    "    linewidth=2\n",
    "    color=\"orange\",\n",
    ")\n",
    "plt.ylabel(\"Monthly Listeners (Millions)\", fontsize=14)\n",
    "plt.title(\"Biểu đồ đường số người nghe theo tháng theo từng album\")\n",
    "\n",
    "plt.gird(True, linestyle=\"--\", alpha=0.6)\n",
    "\n",
    "# hien thi\n",
    "plt.tight_layout()\n",
    "plt.show()"
   ]
  },
  {
   "cell_type": "markdown",
   "id": "47fb671a",
   "metadata": {},
   "source": [
    "# bar\n",
    "- biểu đồ cột"
   ]
  },
  {
   "cell_type": "code",
   "execution_count": null,
   "id": "b71a8e96",
   "metadata": {},
   "outputs": [],
   "source": []
  }
 ],
 "metadata": {
  "kernelspec": {
   "display_name": "Python 3",
   "language": "python",
   "name": "python3"
  },
  "language_info": {
   "name": "python",
   "version": "3.11.9"
  }
 },
 "nbformat": 4,
 "nbformat_minor": 5
}
