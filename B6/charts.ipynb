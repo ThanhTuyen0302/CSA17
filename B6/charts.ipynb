{
 "cells": [
  {
   "cell_type": "code",
   "execution_count": null,
   "id": "8531c0fe",
   "metadata": {},
   "outputs": [],
   "source": [
    "import pandas as pd\n",
    "import matplotlib as plt"
   ]
  },
  {
   "cell_type": "code",
   "execution_count": null,
   "id": "8dda0512",
   "metadata": {},
   "outputs": [],
   "source": [
    "df = pd.read_csv(\"spotify.csv\")\n",
    "df.isna().sum()"
   ]
  },
  {
   "cell_type": "code",
   "execution_count": null,
   "id": "8864ff69",
   "metadata": {},
   "outputs": [],
   "source": [
    "df.tail()"
   ]
  },
  {
   "cell_type": "code",
   "execution_count": null,
   "id": "56c18d0c",
   "metadata": {},
   "outputs": [],
   "source": [
    "df.plot()"
   ]
  },
  {
   "cell_type": "markdown",
   "id": "08001e6b",
   "metadata": {},
   "source": [
    "# plot:\n",
    "- Biểu đồ đường cong"
   ]
  },
  {
   "cell_type": "code",
   "execution_count": null,
   "id": "7e1f9bea",
   "metadata": {},
   "outputs": [],
   "source": [
    "# ve bieu do duong cho Monthly Listeners (Millions)plt.figure(figsize=(10, 6))\n",
    "plt.plot(df[\"Monthly Listeners (Millions)\"], \n",
    "    marker=\"o\", \n",
    "    linestyle=\"-\", \n",
    "    linewidth=2\n",
    "    color=\"orange\",\n",
    ")\n",
    "plt.ylabel(\"Monthly Listeners (Millions)\", fontsize=14)\n",
    "plt.title(\"Biểu đồ đường số người nghe theo tháng theo từng album\")\n",
    "\n",
    "plt.gird(True, linestyle=\"--\", alpha=0.6)\n",
    "\n",
    "# hien thi\n",
    "plt.tight_layout()\n",
    "plt.show()"
   ]
  },
  {
   "cell_type": "markdown",
   "id": "47fb671a",
   "metadata": {},
   "source": [
    "# bar\n",
    "- biểu đồ cột"
   ]
  },
  {
   "cell_type": "code",
   "execution_count": null,
   "id": "b71a8e96",
   "metadata": {},
   "outputs": [],
   "source": [
    "# gom nhom data\n",
    "artist_streams =  df.groupby(\"Artist\")[\"Total Streams (Millions)\"].sum().nlargest(10)\n",
    "artist_streams"
   ]
  },
  {
   "cell_type": "code",
   "execution_count": null,
   "id": "bf9083e0",
   "metadata": {},
   "outputs": [],
   "source": [
    "# ve bieu do cot ngang\n",
    "plt.figure(figsize=(10, 5))\n",
    "artist_streams.plot(kind=\"barh\", color=\"#F5276C\", edgecolor=\"#F5B027\")\n",
    "\n",
    "plt.title(\"Top 10 nghệ sĩ có stream cao nhất\", fontsize=14)\n",
    "plt.xlabel(\"Total streams (mi)\", fontsize=12)\n",
    "plt.ylabel(\"Artist\", fontsize=12)\n",
    "# dao truc de nghe si cao nhat nam o tren\n",
    "plt.gca().invert_yaxis()\n",
    "\n",
    "plt.grid(axis=\"x\", linestyle=\"--\", alpha=0.6)\n",
    "plt.tight_layout()\n",
    "\n",
    "plt.show()"
   ]
  },
  {
   "cell_type": "markdown",
   "id": "9c18f0ca",
   "metadata": {},
   "source": [
    "# Histogram\n",
    "- Biểu đồ tần suất"
   ]
  },
  {
   "cell_type": "code",
   "execution_count": null,
   "id": "fa8b89d5",
   "metadata": {},
   "outputs": [],
   "source": [
    "# add df tu bilionaires\n",
    "df_bili = pd.read_csv(\"../B4/Billionaires.csv\")\n",
    "df_bili.isnull().sum()"
   ]
  },
  {
   "cell_type": "code",
   "execution_count": null,
   "id": "92dae541",
   "metadata": {},
   "outputs": [],
   "source": [
    "# xu ly null cua cot tuoi -> tuoi trung binh\n",
    "df_bili[\"age\"] = df_bili[\"age\"].fillna(df_bili[\"age\"].mean()).round()\n",
    "df_bili[\"age\"]"
   ]
  },
  {
   "cell_type": "code",
   "execution_count": null,
   "id": "7fdb7eaa",
   "metadata": {},
   "outputs": [],
   "source": [
    "# doi kieu int cho age\n",
    "df_bili[\"age\"] = df_bili[\"age\"].astype(int)\n",
    "df_bili[\"age\"]"
   ]
  },
  {
   "cell_type": "code",
   "execution_count": null,
   "id": "3c352727",
   "metadata": {},
   "outputs": [],
   "source": [
    "# ve bieu do tuoi\n",
    "plt.hist(x = df_bili[\"age\"], color=\"#F5276C\", edgecolor=\"#F5B027\")\n",
    "plt.title(\"Biểu đồ cột phân bổ tuổi\")\n",
    "plt.ylabel(\"Số người\")\n",
    "plt.xlabel(\"Số tuổi\")\n",
    "plt.show()"
   ]
  }
 ],
 "metadata": {
  "kernelspec": {
   "display_name": "Python 3",
   "language": "python",
   "name": "python3"
  },
  "language_info": {
   "name": "python",
   "version": "3.11.9"
  }
 },
 "nbformat": 4,
 "nbformat_minor": 5
}
