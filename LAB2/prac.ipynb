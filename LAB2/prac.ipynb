{
 "cells": [
  {
   "cell_type": "markdown",
   "id": "c0dda18c",
   "metadata": {},
   "source": [
    "Yêu cầu 1: Tạo một danh sách chứa các số từ 1 đến 100 "
   ]
  },
  {
   "cell_type": "code",
   "execution_count": null,
   "id": "97628971",
   "metadata": {},
   "outputs": [],
   "source": [
    "import random\n",
    "ds1 = list(range(1, 101))\n",
    "ds2 = [random.randint(1, 100) for _ in range(100)]\n",
    "ds2"
   ]
  },
  {
   "cell_type": "markdown",
   "id": "1f6dcd89",
   "metadata": {},
   "source": [
    "Yêu cầu 2: Viết hàm tạo một danh sách mới chỉ chứa các số lẻ từ danh sách ban đầu "
   ]
  },
  {
   "cell_type": "code",
   "execution_count": null,
   "id": "cd2fcda3",
   "metadata": {},
   "outputs": [],
   "source": [
    "def loc_so_le(ds):\n",
    "    return [i for i in ds if i % 2 != 0]\n",
    "\n",
    "loc_so_le(ds2)"
   ]
  },
  {
   "cell_type": "markdown",
   "id": "53665b12",
   "metadata": {},
   "source": [
    "Yêu cầu 3: Tạo một từ điển, trong đó: \n",
    "\n",
    "- mỗi khóa là một số từ danh sách số lẻ\n",
    "- giá trị là bình phương của khoá\n",
    "- i: i**2"
   ]
  },
  {
   "cell_type": "code",
   "execution_count": null,
   "id": "a86fe92b",
   "metadata": {},
   "outputs": [],
   "source": [
    "tu_dien = {i: i**2 for i in loc_so_le(ds2)}\n",
    "tu_dien"
   ]
  }
 ],
 "metadata": {
  "kernelspec": {
   "display_name": ".venv",
   "language": "python",
   "name": "python3"
  },
  "language_info": {
   "codemirror_mode": {
    "name": "ipython",
    "version": 3
   },
   "file_extension": ".py",
   "mimetype": "text/x-python",
   "name": "python",
   "nbconvert_exporter": "python",
   "pygments_lexer": "ipython3",
   "version": "3.11.9"
  }
 },
 "nbformat": 4,
 "nbformat_minor": 5
}
