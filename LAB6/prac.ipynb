{
 "cells": [
  {
   "cell_type": "code",
   "execution_count": null,
   "id": "a05000ec",
   "metadata": {},
   "outputs": [],
   "source": [
    "import pandas as pd\n",
    "import matplotlib.pyplot as plt"
   ]
  },
  {
   "cell_type": "code",
   "execution_count": null,
   "id": "ba8a8f93",
   "metadata": {},
   "outputs": [],
   "source": [
    "df = pd.read_csv(\"tips.csv\")\n",
    "df.tail()"
   ]
  },
  {
   "cell_type": "code",
   "execution_count": null,
   "id": "6f0532cb",
   "metadata": {},
   "outputs": [],
   "source": [
    "df.isnull().sum()"
   ]
  },
  {
   "cell_type": "code",
   "execution_count": null,
   "id": "224ee23d",
   "metadata": {},
   "outputs": [],
   "source": [
    "# tinh tong bill + tips trong 1 ngay\n",
    "daily_avg = df.groupby(\"day\")[{\"total_bill\",\"tip\"}].mean().reset_index()\n",
    "daily_avg"
   ]
  },
  {
   "cell_type": "code",
   "execution_count": null,
   "id": "94e0c86a",
   "metadata": {},
   "outputs": [],
   "source": [
    "order = [\"Thur\", \"Fri\", \"Sat\", \"Sun\"]\n",
    "daily_avg[\"day\"] = pd.Categorical(daily_avg[\"day\"], categories=order, ordered=True)\n",
    "daily_avg = daily_avg.sort_values(\"day\")"
   ]
  },
  {
   "cell_type": "code",
   "execution_count": null,
   "id": "a4c5a444",
   "metadata": {},
   "outputs": [],
   "source": [
    "fig,axl = plt.subplots(figsize=(10,6))\n",
    "\n",
    "# cot: total_bill\n",
    "bars = axl.bar(daily_avg[\"day\"], daily_avg[\"total_bill\"], label=\"Trung bình tổng hóa đơn\", color=\"puple\")\n",
    "\n",
    "axl.set_xlabel(\"Ngày trong tuần\")\n",
    "axl.set_ylabel(\"Tổng hóa đơn trung bình ($)\")\n",
    "axl.tick_params(axis='y', labelcolor=\"blue\")\n",
    "\n",
    "# line: tip\n",
    "ax2 = axl.twinx()\n",
    "ax2.plot(daily_avg[\"day\"], daily_avg[\"tip\"], label=\"Trung bình tiền típ\", color=\"pink\", marker=\"o\")\n",
    "ax2.set_ylabel(\"Tiền típ trung bình ($)\")\n",
    "ax2.tick_params(axis='y', labelcolor=\"red\")\n",
    "\n",
    "# tieu de \n"
   ]
  }
 ],
 "metadata": {
  "kernelspec": {
   "display_name": ".venv",
   "language": "python",
   "name": "python3"
  },
  "language_info": {
   "codemirror_mode": {
    "name": "ipython",
    "version": 3
   },
   "file_extension": ".py",
   "mimetype": "text/x-python",
   "name": "python",
   "nbconvert_exporter": "python",
   "pygments_lexer": "ipython3",
   "version": "3.11.9"
  }
 },
 "nbformat": 4,
 "nbformat_minor": 5
}
